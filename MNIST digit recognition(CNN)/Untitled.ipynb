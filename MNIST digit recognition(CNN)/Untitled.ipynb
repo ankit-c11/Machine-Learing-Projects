{
 "cells": [
  {
   "cell_type": "code",
   "execution_count": 18,
   "id": "broken-channels",
   "metadata": {},
   "outputs": [],
   "source": [
    "from keras.layers import *\n",
    "from keras.models import Sequential"
   ]
  },
  {
   "cell_type": "code",
   "execution_count": 19,
   "id": "protected-donna",
   "metadata": {},
   "outputs": [
    {
     "name": "stdout",
     "output_type": "stream",
     "text": [
      "Model: \"sequential_4\"\n",
      "_________________________________________________________________\n",
      "Layer (type)                 Output Shape              Param #   \n",
      "=================================================================\n",
      "conv2d_12 (Conv2D)           (None, 26, 26, 32)        320       \n",
      "_________________________________________________________________\n",
      "max_pooling2d_10 (MaxPooling (None, 13, 13, 32)        0         \n",
      "_________________________________________________________________\n",
      "conv2d_13 (Conv2D)           (None, 11, 11, 64)        18496     \n",
      "_________________________________________________________________\n",
      "max_pooling2d_11 (MaxPooling (None, 5, 5, 64)          0         \n",
      "_________________________________________________________________\n",
      "conv2d_14 (Conv2D)           (None, 3, 3, 64)          36928     \n",
      "_________________________________________________________________\n",
      "flatten_3 (Flatten)          (None, 576)               0         \n",
      "_________________________________________________________________\n",
      "dense_2 (Dense)              (None, 64)                36928     \n",
      "_________________________________________________________________\n",
      "dense_3 (Dense)              (None, 10)                650       \n",
      "=================================================================\n",
      "Total params: 93,322\n",
      "Trainable params: 93,322\n",
      "Non-trainable params: 0\n",
      "_________________________________________________________________\n"
     ]
    }
   ],
   "source": [
    "model = Sequential()\n",
    "model.add(Conv2D(32,(3,3),activation='relu',input_shape=(28,28,1)))\n",
    "model.add(MaxPool2D(2,2))\n",
    "model.add(Conv2D(64,(3,3),activation='relu'))\n",
    "model.add(MaxPool2D(2,2))\n",
    "model.add(Conv2D(64,(3,3),activation='relu'))\n",
    "model.add(Flatten())\n",
    "model.add(Dense(64,activation='relu'))\n",
    "model.add(Dense(10,activation='softmax'))\n",
    "model.summary()"
   ]
  },
  {
   "cell_type": "code",
   "execution_count": null,
   "id": "changing-leather",
   "metadata": {},
   "outputs": [],
   "source": []
  },
  {
   "cell_type": "code",
   "execution_count": 20,
   "id": "determined-demographic",
   "metadata": {},
   "outputs": [],
   "source": [
    "from keras.datasets import mnist\n",
    "from keras.utils import to_categorical"
   ]
  },
  {
   "cell_type": "code",
   "execution_count": 21,
   "id": "accurate-payment",
   "metadata": {},
   "outputs": [],
   "source": [
    "(XT,YT),(Xt,Yt) = mnist.load_data()"
   ]
  },
  {
   "cell_type": "code",
   "execution_count": 22,
   "id": "cardiovascular-kitchen",
   "metadata": {},
   "outputs": [
    {
     "data": {
      "text/plain": [
       "((60000, 28, 28), (60000,), (10000, 28, 28), (10000,))"
      ]
     },
     "execution_count": 22,
     "metadata": {},
     "output_type": "execute_result"
    }
   ],
   "source": [
    "XT.shape,YT.shape,Xt.shape,Yt.shape"
   ]
  },
  {
   "cell_type": "code",
   "execution_count": 23,
   "id": "passive-toolbox",
   "metadata": {},
   "outputs": [],
   "source": [
    "def preprocess_data(X,Y):\n",
    "    X = X.reshape((-1,28,28,1))\n",
    "    X = X/255.0\n",
    "    \n",
    "    Y = to_categorical(Y)\n",
    "    \n",
    "    return X,Y"
   ]
  },
  {
   "cell_type": "code",
   "execution_count": 24,
   "id": "digital-shell",
   "metadata": {},
   "outputs": [],
   "source": [
    "XT,YT = preprocess_data(XT,YT)"
   ]
  },
  {
   "cell_type": "code",
   "execution_count": 25,
   "id": "floating-trinity",
   "metadata": {},
   "outputs": [
    {
     "data": {
      "text/plain": [
       "((60000, 28, 28, 1), (60000, 10))"
      ]
     },
     "execution_count": 25,
     "metadata": {},
     "output_type": "execute_result"
    }
   ],
   "source": [
    "XT.shape,YT.shape"
   ]
  },
  {
   "cell_type": "code",
   "execution_count": 26,
   "id": "external-collaboration",
   "metadata": {},
   "outputs": [],
   "source": [
    "Xt,Yt = preprocess_data(Xt,Yt)"
   ]
  },
  {
   "cell_type": "code",
   "execution_count": 27,
   "id": "naughty-oxide",
   "metadata": {},
   "outputs": [],
   "source": [
    "model.compile(loss='categorical_crossentropy',optimizer='adam',metrics=['acc'])"
   ]
  },
  {
   "cell_type": "code",
   "execution_count": 28,
   "id": "known-satellite",
   "metadata": {},
   "outputs": [
    {
     "name": "stdout",
     "output_type": "stream",
     "text": [
      "Epoch 1/20\n",
      "118/118 [==============================] - 30s 240ms/step - loss: 0.9980 - acc: 0.7230\n",
      "Epoch 2/20\n",
      "118/118 [==============================] - 28s 234ms/step - loss: 0.1234 - acc: 0.9634\n",
      "Epoch 3/20\n",
      "118/118 [==============================] - 28s 235ms/step - loss: 0.0741 - acc: 0.9771\n",
      "Epoch 4/20\n",
      "118/118 [==============================] - 28s 234ms/step - loss: 0.0614 - acc: 0.9810\n",
      "Epoch 5/20\n",
      "118/118 [==============================] - 28s 240ms/step - loss: 0.0493 - acc: 0.9852\n",
      "Epoch 6/20\n",
      "118/118 [==============================] - 25s 215ms/step - loss: 0.0414 - acc: 0.9874\n",
      "Epoch 7/20\n",
      "118/118 [==============================] - 21s 182ms/step - loss: 0.0358 - acc: 0.9885\n",
      "Epoch 8/20\n",
      "118/118 [==============================] - 23s 191ms/step - loss: 0.0325 - acc: 0.9902\n",
      "Epoch 9/20\n",
      "118/118 [==============================] - 22s 184ms/step - loss: 0.0264 - acc: 0.9921\n",
      "Epoch 10/20\n",
      "118/118 [==============================] - 23s 190ms/step - loss: 0.0241 - acc: 0.9928\n",
      "Epoch 11/20\n",
      "118/118 [==============================] - 22s 185ms/step - loss: 0.0228 - acc: 0.9931\n",
      "Epoch 12/20\n",
      "118/118 [==============================] - 22s 190ms/step - loss: 0.0174 - acc: 0.9949\n",
      "Epoch 13/20\n",
      "118/118 [==============================] - 22s 184ms/step - loss: 0.0159 - acc: 0.9951\n",
      "Epoch 14/20\n",
      "118/118 [==============================] - 22s 187ms/step - loss: 0.0136 - acc: 0.9960\n",
      "Epoch 15/20\n",
      "118/118 [==============================] - 24s 201ms/step - loss: 0.0129 - acc: 0.9963\n",
      "Epoch 16/20\n",
      "118/118 [==============================] - 22s 187ms/step - loss: 0.0133 - acc: 0.9958\n",
      "Epoch 17/20\n",
      "118/118 [==============================] - 38s 326ms/step - loss: 0.0115 - acc: 0.9968\n",
      "Epoch 18/20\n",
      "118/118 [==============================] - 21s 180ms/step - loss: 0.0103 - acc: 0.9969\n",
      "Epoch 19/20\n",
      "118/118 [==============================] - 23s 193ms/step - loss: 0.0082 - acc: 0.9975\n",
      "Epoch 20/20\n",
      "118/118 [==============================] - 24s 208ms/step - loss: 0.0062 - acc: 0.9982\n"
     ]
    }
   ],
   "source": [
    "hist = model.fit(XT,YT,epochs=20,batch_size = 512)"
   ]
  },
  {
   "cell_type": "markdown",
   "id": "lesser-purple",
   "metadata": {},
   "source": [
    "## Deep Networks with small training-data-sets are often prone to overfitting"
   ]
  },
  {
   "cell_type": "markdown",
   "id": "classified-carol",
   "metadata": {},
   "source": [
    "This can be handled by image augmentation"
   ]
  },
  {
   "cell_type": "code",
   "execution_count": 30,
   "id": "exposed-warehouse",
   "metadata": {},
   "outputs": [
    {
     "data": {
      "image/png": "[encoded data removed]",
      "text/plain": [
       "<Figure size 432x288 with 1 Axes>"
      ]
     },
     "metadata": {
      "needs_background": "light"
     },
     "output_type": "display_data"
    }
   ],
   "source": [
    "from matplotlib import pyplot as plt\n",
    "plt.plot(hist.history['loss'])\n",
    "plt.show()"
   ]
  },
  {
   "cell_type": "code",
   "execution_count": 31,
   "id": "handled-bidding",
   "metadata": {},
   "outputs": [
    {
     "name": "stdout",
     "output_type": "stream",
     "text": [
      "313/313 [==============================] - 6s 12ms/step - loss: 0.0278 - acc: 0.9922\n"
     ]
    },
    {
     "data": {
      "text/plain": [
       "[0.027821805328130722, 0.9922000169754028]"
      ]
     },
     "execution_count": 31,
     "metadata": {},
     "output_type": "execute_result"
    }
   ],
   "source": [
    "model.evaluate(Xt,Yt)"
   ]
  },
  {
   "cell_type": "code",
   "execution_count": null,
   "id": "complimentary-motor",
   "metadata": {},
   "outputs": [],
   "source": []
  }
 ],
 "metadata": {
  "kernelspec": {
   "display_name": "Python 3",
   "language": "python",
   "name": "python3"
  },
  "language_info": {
   "codemirror_mode": {
    "name": "ipython",
    "version": 3
   },
   "file_extension": ".py",
   "mimetype": "text/x-python",
   "name": "python",
   "nbconvert_exporter": "python",
   "pygments_lexer": "ipython3",
   "version": "3.8.7"
  }
 },
 "nbformat": 4,
 "nbformat_minor": 5
}
